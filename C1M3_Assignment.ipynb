{
 "cells": [
  {
   "cell_type": "markdown",
   "metadata": {},
   "source": [
    "# Assignment - Implementing graph algorithms with LLMs\n",
    "\n",
    "Welcome to the first assignment of Course 1 in the Generative AI for Software Development Specialization!"
   ]
  },
  {
   "cell_type": "markdown",
   "metadata": {},
   "source": [
    "## 1 - Introduction\n",
    "\n",
    "In this assignment, you'll start by working with a basic `Graph` class that comes with simple methods. Then, you'll move on to another class named `Graph_Advanced`. Here, you'll be tasked with implementing four methods to tackle four different problems.\n",
    "\n",
    "It's important to note that the Graph class cannot be modified in any way. However, you're free to add as many methods as you need to the `Graph_Advanced` class to address the challenges you'll encounter.\n",
    "\n",
    "We expect you to leverage an LLM (Large Language Model) to aid in developing the algorithms. These algorithms should not only aim for solutions that are close to optimal but also adhere to a specific time execution limit. We provide an LLM with GPT-3.5 for you, the link is [here](https://www.coursera.org/learn/introduction-to-generative-ai-for-software-development/ungradedLab/Vuqvf/gpt-3-5-environment), but feel free to use the LLM you want!\n",
    "\n",
    "[**LINK FOR GPT-3.5**](https://www.coursera.org/learn/introduction-to-generative-ai-for-software-development/ungradedLab/Vuqvf/gpt-3-5-environment)\n",
    "\n",
    "Don't worry if things seem a bit unclear at the moment! You'll receive guidance throughout the assignment.\n",
    "\n",
    "We expect you to use LLMs in the following manner:\n",
    "\n",
    "- Begin by clearly defining the problem you are trying to solve or the concept you wish to understand better. Present this to the LLM in a concise manner.\n",
    "- Engage with the LLM as if it were a knowledgeable peer. Ask questions, seek clarifications, and propose hypotheses for the LLM to comment on.\n",
    "- Provide the LLM the Graph class given to you and ask it to explain how it works.\n",
    "- After receiving input from the LLM, critically evaluate the information and decide how best to apply it to your work. Not all suggestions from the LLM may be directly applicable or correct; part of your task is to discern the most valuable advice.\n",
    "\n",
    "\n",
    "#### TIPS FOR SUCCESSFUL GRADING OF YOUR ASSIGNMENT:\n",
    "\n",
    "- All cells are frozen except for the ones where you need to submit your solutions.\n",
    "\n",
    "- You can add new cells to experiment but these will be omitted by the grader, so don't rely on newly created cells to host your solution code, use the provided places for this.\n",
    "\n",
    "- To submit your notebook, save it and then click on the blue submit button at the beginning of the page."
   ]
  },
  {
   "cell_type": "markdown",
   "metadata": {},
   "source": [
    "### 1.1 Importing necessary libraries\n",
    "\n",
    "Let's begin by importing the necessary libraries. **It's crucial to remember that you should not use any libraries beyond those imported for this assignment. Please communicate this constraint clearly to the LLM. Importing additional libraries could disrupt the autograder, preventing you from receiving a grade.**"
   ]
  },
  {
   "cell_type": "code",
   "execution_count": 1,
   "metadata": {
    "deletable": false,
    "editable": false,
    "tags": [
     "graded"
    ]
   },
   "outputs": [],
   "source": [
    "import random\n",
    "import heapq\n",
    "import os\n",
    "import numpy as np\n",
    "import itertools"
   ]
  },
  {
   "cell_type": "markdown",
   "metadata": {},
   "source": [
    "### 1.2 Importing unittests library\n",
    "\n",
    "This library includes basic unittests to evaluate your solution. If you don't pass some of these unittests, it's probable that your solution will also fail upon submission. However, passing all the unittests doesn't guarantee success in this assignment, as the autograder will subject your solutions to more extensive testing. To successfully pass this assignment, your solution needs to meet the requirements in more than 85% of the test cases. If your solution fails, you will receive up to three examples highlighting where your algorithm fell short, along with instructions on how to replicate the graphs for debugging purposes."
   ]
  },
  {
   "cell_type": "code",
   "execution_count": 2,
   "metadata": {
    "deletable": false,
    "editable": false
   },
   "outputs": [],
   "source": [
    "import unittests"
   ]
  },
  {
   "cell_type": "markdown",
   "metadata": {},
   "source": [
    "Here is the Graph class you'll be working with. Please take a moment to familiarize yourself with it and its methods. Feel free to ask an LLM to help explain how the class functions!"
   ]
  },
  {
   "cell_type": "code",
   "execution_count": 3,
   "metadata": {
    "deletable": false,
    "editable": false,
    "tags": [
     "graded"
    ]
   },
   "outputs": [],
   "source": [
    "class Graph:\n",
    "    def __init__(self, directed=False):\n",
    "        \"\"\"\n",
    "        Initialize the Graph.\n",
    "\n",
    "        Parameters:\n",
    "        - directed (bool): Specifies whether the graph is directed. Default is False (undirected).\n",
    "\n",
    "        Attributes:\n",
    "        - graph (dict): A dictionary to store vertices and their adjacent vertices (with weights).\n",
    "        - directed (bool): Indicates whether the graph is directed.\n",
    "        \"\"\"\n",
    "        self.graph = {}\n",
    "        self.directed = directed\n",
    "    \n",
    "    def add_vertex(self, vertex):\n",
    "        \"\"\"\n",
    "        Add a vertex to the graph.\n",
    "\n",
    "        Parameters:\n",
    "        - vertex: The vertex to add. It must be hashable.\n",
    "\n",
    "        Ensures that each vertex is represented in the graph dictionary as a key with an empty dictionary as its value.\n",
    "        \"\"\"\n",
    "        if not isinstance(vertex, (int, str, tuple)):\n",
    "            raise ValueError(\"Vertex must be a hashable type.\")\n",
    "        if vertex not in self.graph:\n",
    "            self.graph[vertex] = {}\n",
    "    \n",
    "    def add_edge(self, src, dest, weight):\n",
    "        \"\"\"\n",
    "        Add a weighted edge from src to dest. If the graph is undirected, also add from dest to src.\n",
    "\n",
    "        Parameters:\n",
    "        - src: The source vertex.\n",
    "        - dest: The destination vertex.\n",
    "        - weight: The weight of the edge.\n",
    "        \n",
    "        Prevents adding duplicate edges and ensures both vertices exist.\n",
    "        \"\"\"\n",
    "        if src not in self.graph or dest not in self.graph:\n",
    "            raise KeyError(\"Both vertices must exist in the graph.\")\n",
    "        if dest not in self.graph[src]:  # Check to prevent duplicate edges\n",
    "            self.graph[src][dest] = weight\n",
    "        if not self.directed and src not in self.graph[dest]:\n",
    "            self.graph[dest][src] = weight\n",
    "    \n",
    "    def remove_edge(self, src, dest):\n",
    "        \"\"\"\n",
    "        Remove an edge from src to dest. If the graph is undirected, also remove from dest to src.\n",
    "\n",
    "        Parameters:\n",
    "        - src: The source vertex.\n",
    "        - dest: The destination vertex.\n",
    "        \"\"\"\n",
    "        if src in self.graph and dest in self.graph[src]:\n",
    "            del self.graph[src][dest]\n",
    "        if not self.directed:\n",
    "            if dest in self.graph and src in self.graph[dest]:\n",
    "                del self.graph[dest][src]\n",
    "    \n",
    "    def remove_vertex(self, vertex):\n",
    "        \"\"\"\n",
    "        Remove a vertex and all edges connected to it.\n",
    "\n",
    "        Parameters:\n",
    "        - vertex: The vertex to be removed.\n",
    "        \"\"\"\n",
    "        if vertex in self.graph:\n",
    "            # Remove any edges from other vertices to this one\n",
    "            for adj in list(self.graph):\n",
    "                if vertex in self.graph[adj]:\n",
    "                    del self.graph[adj][vertex]\n",
    "            # Remove the vertex entry itself\n",
    "            del self.graph[vertex]\n",
    "    \n",
    "    def get_adjacent_vertices(self, vertex):\n",
    "        \"\"\"\n",
    "        Get a list of vertices adjacent to the specified vertex.\n",
    "\n",
    "        Parameters:\n",
    "        - vertex: The vertex whose neighbors are to be retrieved.\n",
    "\n",
    "        Returns:\n",
    "        - List of adjacent vertices. Returns an empty list if vertex is not found.\n",
    "        \"\"\"\n",
    "        return list(self.graph.get(vertex, {}).keys())\n",
    "\n",
    "    def _get_edge_weight(self, src, dest):\n",
    "        \"\"\"\n",
    "        Get the weight of the edge from src to dest.\n",
    "\n",
    "        Parameters:\n",
    "        - src: The source vertex.\n",
    "        - dest: The destination vertex.\n",
    "\n",
    "        Returns:\n",
    "        - The weight of the edge. If the edge does not exist, returns infinity.\n",
    "        \"\"\"\n",
    "        return self.graph[src].get(dest, float('inf'))\n",
    "    \n",
    "    def __str__(self):\n",
    "        \"\"\"\n",
    "        Provide a string representation of the graph's adjacency list for easy printing and debugging.\n",
    "\n",
    "        Returns:\n",
    "        - A string representation of the graph dictionary.\n",
    "        \"\"\"\n",
    "        return str(self.graph)"
   ]
  },
  {
   "cell_type": "code",
   "execution_count": 4,
   "metadata": {},
   "outputs": [
    {
     "name": "stdout",
     "output_type": "stream",
     "text": [
      "{'A': {'B': 5}, 'B': {'A': 5, 'C': 3}, 'C': {'B': 3}}\n"
     ]
    }
   ],
   "source": [
    "g = Graph(directed=False)\n",
    "g.add_vertex(\"A\")\n",
    "g.add_vertex(\"B\")\n",
    "g.add_vertex(\"C\")  # Add vertex \"C\"\n",
    "g.add_edge(\"A\", \"B\", 5)\n",
    "g.add_edge(\"B\", \"C\", 3)\n",
    "print(g)"
   ]
  },
  {
   "cell_type": "markdown",
   "metadata": {},
   "source": [
    "You are required to modify a new class, which inherits from the Graph class, by filling in the blank methods listed below. It's entirely acceptable, and often necessary, to add auxiliary (helper) methods to address each problem effectively. \n",
    "\n",
    "**However, the primary function tasked with solving each problem must retain the names provided below and return the output in the specified order: first the distance, followed by the path. Variable names in the return call are just examples. You can change them, as long as the first argument is the distance and the second is the path, given by a list of node numbers.**\n",
    "\n",
    "## Example of an expected function output\n",
    "\n",
    "```Python\n",
    "graph = Graph_Advanced() # Assume the graph is already built with nodes and edges\n",
    "\n",
    "print(graph.shortest_path(5, 260)) # Find the shortest path between node 5 and 260.\n",
    "\n",
    "310, [5,17, 80, 71, 190, 260]\n",
    "\n",
    "```\n",
    "\n",
    "## 2 - The Graph_Advanced Class\n",
    "\n",
    "Below is the Graph_Advanced class, which is a subclass of the Graph class. You are tasked with implementing 4 methods, each corresponding to an exercise in this assignment. It's crucial to remember that you **must not** alter the names of these functions, and the output format must be (distance, path) as specified. You **can** introduce auxiliary methods **within the Graph_Advanced class** to aid in solving any of the exercises, but the final solution **must** be delivered through the functions listed below.\n",
    "\n",
    "### 2.1 How to Complete The Exercises with LLM Assistance\n",
    "\n",
    "1. **Problem Understanding with LLM**: Discuss graph theory problems like the Travelling Salesman Problem (TSP) and shortest path finding with the LLM. Use it to clarify concepts and get examples, enhancing your foundational knowledge.\n",
    "\n",
    "2. **Graph Class Analysis with LLM**: Analyze the provided Graph class functions and structure by consulting the LLM. Its explanations will help you understand how to effectively utilize and extend the class.\n",
    "\n",
    "3. **Method Implementation Guidance**: For coding tasks (`shortest_path`, `tsp_small_graph`, `tsp_large_graph`, `tsp_medium_graph`), brainstorm with the LLM. Share your logic and seek optimization tips to refine your solutions. You can even ask the LLM to build the code for you, with any specification you want.\n",
    "\n",
    "4. **Developing Helper Methods**: Before adding helper methods to the `Graph_Advanced` class, discuss your ideas with the LLM for feedback on implementation strategies, ensuring they align with the class's integrity.\n",
    "\n",
    "5. **Testing Solutions with LLM**: Use the LLM to strategize and review your testing approach, especially for tests that yield unexpected results. It can offer debugging and optimization advice to improve your solutions.\n",
    "\n",
    "Keep the interaction with the LLM continuous, treating it as a mentor for advice, debugging, and review throughout the exercise process. This approach will not only aid in task completion but also in skill enhancement."
   ]
  },
  {
   "cell_type": "code",
   "execution_count": 16,
   "metadata": {
    "deletable": false,
    "tags": [
     "graded"
    ]
   },
   "outputs": [],
   "source": [
    "import heapq\n",
    "from joblib import Parallel, delayed\n",
    "import random\n",
    "\n",
    "class Graph_Advanced(Graph):\n",
    "    \n",
    "    # Exercise 1: The Shortest Path Challenge\n",
    "    def shortest_path(self, start: int, end: int) -> tuple[float, list[int]]:\n",
    "        \"\"\"\n",
    "        Calculate the shortest path from a starting node to an ending node in a sparse graph\n",
    "        with 10,000 nodes. Must execute in less than 0.5 seconds.\n",
    "\n",
    "        Uses Dijkstra's algorithm with a priority queue (min-heap).\n",
    "        \"\"\"\n",
    "        if start == end:\n",
    "            return 0, [start]  # Early exit for trivial case\n",
    "        \n",
    "        if start not in self.graph or end not in self.graph:\n",
    "            raise ValueError(\"Start or end vertex not found in graph.\")\n",
    "        \n",
    "        # Priority queue for exploring nodes based on shortest known distance\n",
    "        pq = [(0, start)]  # (distance, vertex)\n",
    "        distances = {vertex: float('inf') for vertex in self.graph}\n",
    "        distances[start] = 0\n",
    "        previous = {vertex: None for vertex in self.graph}\n",
    "\n",
    "        while pq:\n",
    "            current_distance, current_vertex = heapq.heappop(pq)\n",
    "\n",
    "            if current_vertex == end:\n",
    "                break  # Early exit if we reach the destination\n",
    "\n",
    "            if current_distance > distances[current_vertex]:\n",
    "                continue\n",
    "\n",
    "            for neighbor, weight in self.graph[current_vertex].items():\n",
    "                distance = current_distance + weight\n",
    "\n",
    "                if distance < distances[neighbor]:\n",
    "                    distances[neighbor] = distance\n",
    "                    previous[neighbor] = current_vertex\n",
    "                    heapq.heappush(pq, (distance, neighbor))\n",
    "\n",
    "        # Reconstruct path\n",
    "        path = []\n",
    "        vertex = end\n",
    "        while vertex is not None:\n",
    "            path.insert(0, vertex)\n",
    "            vertex = previous[vertex]\n",
    "        \n",
    "        if distances[end] == float('inf'):\n",
    "            return float('inf'), []  # No path found\n",
    "        return distances[end], path\n",
    "\n",
    "    # Exercise 2: Solving the TSP for Small Graphs    \n",
    "    def tsp_small_graph(self, start_vertex=0) -> tuple[float, list[int]]:\n",
    "        \"\"\"\n",
    "        Solve the Traveling Salesman Problem for small (~10 node) graphs. The algorithm must find \n",
    "        the optimal solution starting from node 0 and complete in under 1 second.\n",
    "\n",
    "        This version uses the Held-Karp algorithm (dynamic programming with bitmasking).\n",
    "        \"\"\"\n",
    "        vertices = list(self.graph.keys())\n",
    "        n = len(vertices)\n",
    "\n",
    "        if n > 10:\n",
    "            raise ValueError(\"Graph size exceeds limit for small graphs (10 nodes).\")\n",
    "        \n",
    "        if start_vertex not in self.graph:\n",
    "            raise ValueError(\"Start vertex not found in the graph.\")\n",
    "        \n",
    "        index_map = {v: i for i, v in enumerate(vertices)}\n",
    "        \n",
    "        # Precompute edge weights for faster lookup, excluding self-loops\n",
    "        edge_weights = {(i, j): self._get_edge_weight(vertices[i], vertices[j]) \n",
    "                        for i in range(n) for j in range(n) if i != j}\n",
    "\n",
    "        # DP table and parent table for path reconstruction\n",
    "        dp = [[float('inf')] * n for _ in range(1 << n)]\n",
    "        dp[1 << index_map[start_vertex]][index_map[start_vertex]] = 0\n",
    "        parent = [[-1] * n for _ in range(1 << n)]\n",
    "\n",
    "        # Dynamic programming with bitmasking\n",
    "        for mask in range(1 << n):\n",
    "            for u in range(n):\n",
    "                if mask & (1 << u):  # Check if u is in the current set\n",
    "                    for v in range(n):\n",
    "                        if not (mask & (1 << v)):  # Check if v is not in the current set\n",
    "                            new_mask = mask | (1 << v)\n",
    "                            new_dist = dp[mask][u] + edge_weights.get((u, v), float('inf'))\n",
    "                            if new_dist < dp[new_mask][v]:\n",
    "                                dp[new_mask][v] = new_dist\n",
    "                                parent[new_mask][v] = u\n",
    "\n",
    "        # Find the optimal path, ensuring valid edges between distinct vertices\n",
    "        all_visited = (1 << n) - 1\n",
    "        final_dist = min(dp[all_visited][v] + edge_weights.get((v, index_map[start_vertex]), float('inf'))\n",
    "                         for v in range(n) if v != index_map[start_vertex])\n",
    "        \n",
    "        # Path reconstruction\n",
    "        path = []\n",
    "        mask = all_visited\n",
    "        end_vertex = min(range(n), key=lambda v: dp[all_visited][v] + edge_weights.get((v, index_map[start_vertex]), float('inf')))\n",
    "        while end_vertex != -1:\n",
    "            path.append(vertices[end_vertex])\n",
    "            new_end = parent[mask][end_vertex]\n",
    "            mask ^= (1 << end_vertex)\n",
    "            end_vertex = new_end\n",
    "        \n",
    "        path.append(start_vertex)\n",
    "        path.reverse()\n",
    "\n",
    "        return final_dist, path\n",
    "\n",
    "    # Exercise 3: Tackling the TSP for Large Graphs\n",
    "    def tsp_large_graph(self, start_vertex: int) -> tuple[float, list[int]]:\n",
    "        \"\"\"\n",
    "        Solve the Traveling Salesman Problem for large (~1000 node) graphs. The goal is to find a\n",
    "        good approximation using a nearest neighbor heuristic, executing in under 0.5 seconds.\n",
    "        \"\"\"\n",
    "        if start_vertex not in self.graph:\n",
    "            raise ValueError(\"Start vertex not found in the graph.\")\n",
    "\n",
    "        path = [start_vertex]\n",
    "        total_distance = 0\n",
    "        unvisited = set(self.graph.keys())\n",
    "        unvisited.remove(start_vertex)\n",
    "        current_vertex = start_vertex\n",
    "\n",
    "        while unvisited:\n",
    "            next_vertex = min(unvisited, key=lambda vertex: self._get_edge_weight(current_vertex, vertex))\n",
    "            total_distance += self._get_edge_weight(current_vertex, next_vertex)\n",
    "            path.append(next_vertex)\n",
    "            unvisited.remove(next_vertex)\n",
    "            current_vertex = next_vertex\n",
    "\n",
    "        # Return to the starting vertex to complete the tour\n",
    "        total_distance += self._get_edge_weight(current_vertex, start_vertex)\n",
    "        path.append(start_vertex)\n",
    "\n",
    "        return total_distance, path\n",
    "\n",
    "    # Exercise 4: The TSP Medium Graphs Challenge    \n",
    "    def tsp_medium_graph(self, start_vertex: int) -> tuple[float, list[int]]:\n",
    "        \"\"\"\n",
    "        Solve the Traveling Salesman Problem for medium (~300 node) graphs. The goal is to improve\n",
    "        upon the nearest neighbor solution using 2-opt optimization, executing in less than 1.3 seconds.\n",
    "        This version runs the nearest neighbor search from multiple start points in parallel.\n",
    "        \"\"\"\n",
    "        # Precompute edge weights for faster lookup\n",
    "        vertices = list(self.graph.keys())\n",
    "        n = len(vertices)\n",
    "        edge_weights = {(i, j): self._get_edge_weight(vertices[i], vertices[j]) for i in range(n) for j in range(n) if i != j}\n",
    "\n",
    "        # Nearest neighbor heuristic for a single start point\n",
    "        def nearest_neighbor(start: int):\n",
    "            path = [start]\n",
    "            unvisited = set(vertices)\n",
    "            unvisited.remove(start)\n",
    "            total_distance = 0\n",
    "            current = start\n",
    "\n",
    "            while unvisited:\n",
    "                next_vertex = min(unvisited, key=lambda vertex: edge_weights.get((current, vertex), float('inf')))\n",
    "                total_distance += edge_weights.get((current, next_vertex), float('inf'))\n",
    "                path.append(next_vertex)\n",
    "                unvisited.remove(next_vertex)\n",
    "                current = next_vertex\n",
    "\n",
    "            total_distance += edge_weights.get((current, start), float('inf'))  # Return to start\n",
    "            path.append(start)\n",
    "            return total_distance, path\n",
    "\n",
    "        # Run nearest neighbor from 3 different start points in parallel\n",
    "        start_points = random.sample(vertices, 3)  # Try 3 different starting points to save time\n",
    "        results = Parallel(n_jobs=-1)(delayed(nearest_neighbor)(start) for start in start_points)\n",
    "\n",
    "        # Select the best nearest neighbor solution\n",
    "        best_distance, best_path = min(results, key=lambda x: x[0])\n",
    "\n",
    "        # Apply 2-opt optimization to improve the solution\n",
    "        def two_opt(route: list[int], max_iterations: int = 50) -> list[int]:\n",
    "            best = route\n",
    "            iterations = 0\n",
    "            improved = True\n",
    "\n",
    "            while improved and iterations < max_iterations:\n",
    "                iterations += 1\n",
    "                improved = False\n",
    "                # Batch random edge swaps rather than checking all pairs\n",
    "                for _ in range(5):  # Limit to 5 random swaps per iteration\n",
    "                    i, j = sorted(random.sample(range(1, len(route) - 1), 2))\n",
    "                    if j - i == 1: continue  # Skip adjacent nodes\n",
    "                    new_route = route[:i] + route[i:j][::-1] + route[j:]\n",
    "                    if self._tour_cost(new_route) < self._tour_cost(best):\n",
    "                        best = new_route\n",
    "                        improved = True\n",
    "\n",
    "                if not improved:\n",
    "                    break  # Early exit if no improvement\n",
    "            return best\n",
    "\n",
    "        # Perform 2-opt optimization on the best nearest neighbor result\n",
    "        optimized_path = two_opt(best_path, max_iterations=50)  # Further reduced iterations for speed\n",
    "        optimized_dist = self._tour_cost(optimized_path)\n",
    "        return optimized_dist, optimized_path\n",
    "\n",
    "    # Helper function to calculate the total cost of a given tour\n",
    "    def _tour_cost(self, path: list[int]) -> float:\n",
    "        \"\"\"\n",
    "        Helper function to calculate the total cost of a given tour.\n",
    "        \"\"\"\n",
    "        total_distance = 0\n",
    "        for i in range(len(path) - 1):\n",
    "            total_distance += self._get_edge_weight(path[i], path[i+1])\n",
    "        return total_distance\n",
    "\n"
   ]
  },
  {
   "cell_type": "markdown",
   "metadata": {},
   "source": [
    "## 3 - Exercises\n",
    "\n",
    "### 3.1 Exercises description\n",
    "\n",
    "### Exercise 1: The Shortest Path Challenge\n",
    "\n",
    "Develop an algorithm to find the quickest route between two points in a sparse graph containing 10,000 nodes, ensuring it executes in less than `0.5` seconds. If you're unsure about your approach or need optimization advice, the LLM is there to provide insights and strategies.\n",
    "\n",
    "### Exercise 2: Solving the TSP for Small Graphs\n",
    "\n",
    "Your task is to create a function that solves the Traveling Salesman Problem for small graphs of about 10 nodes, starting at node 0. The solution must be efficient, completing the task in under `1` second. The LLM can serve as a valuable resource for exploring algorithmic solutions and improving your code's efficiency.\n",
    "\n",
    "### Exercise 3: Tackling the TSP for Large Graphs\n",
    "\n",
    "Address the Traveling Salesman Problem for large graphs with 1,000 nodes. The goal isn't to find the perfect solution but to approach it closely within `0.5` seconds. When faced with the complexity of this challenge, the LLM can offer guidance on heuristic approaches and performance optimization.\n",
    "\n",
    "### Exercise 4: The TSP Medium Graphs Challenge\n",
    "\n",
    "Focus on medium-sized graphs with 300 nodes and develop an algorithm that performs better than your solution for larger graphs, with a completion time of less than `1.3` seconds. The LLM is ready to assist by sharing insights on algorithmic efficiency and helping you surpass your previous solutions.\n",
    "\n",
    "### 3.2 Unit Testing\n",
    "\n",
    "Unit testing functions are provided to validate your algorithms. Run these without modifications after completing each exercise. They offer immediate feedback, including failure reasons and guidance for improving your solutions. You can test solutions individually, ensuring focused and efficient debugging."
   ]
  },
  {
   "cell_type": "markdown",
   "metadata": {},
   "source": [
    "### 3.3 Generate Graph Function\n",
    "\n",
    "The function outlined below can assist you in experimenting, debugging, and testing your code while you work on the algorithms. If your algorithm fails a test case, you will be given the call to this function with the appropriate arguments needed to replicate the graph that caused your algorithm to fail. Additionally, the reason for the failure will be provided, whether it was due to exceeding the time limit or not achieving an optimal or near-optimal distance. Feel free to ask the LLM to explain how this function works."
   ]
  },
  {
   "cell_type": "code",
   "execution_count": 6,
   "metadata": {
    "deletable": false,
    "editable": false
   },
   "outputs": [],
   "source": [
    "def generate_graph(nodes, edges=None, complete=False, weight_bounds=(1,600), seed=None):\n",
    "    \"\"\"\n",
    "    Generates a graph with specified parameters, allowing for both complete and incomplete graphs.\n",
    "    \n",
    "    This function creates a graph with a specified number of nodes and edges, with options for creating a complete graph, and for specifying the weight bounds of the edges. It uses the Graph_Advanced class to create and manipulate the graph.\n",
    "\n",
    "    Parameters:\n",
    "    - nodes (int): The number of nodes in the graph. Must be a positive integer.\n",
    "    - edges (int, optional): The number of edges to add for each node in the graph. This parameter is ignored if `complete` is set to True. Defaults to None.\n",
    "    - complete (bool, optional): If set to True, generates a complete graph where every pair of distinct vertices is connected by a unique edge. Defaults to False.\n",
    "    - weight_bounds (tuple, optional): A tuple specifying the lower and upper bounds (inclusive) for the random weights of the edges. Defaults to (1, 600).\n",
    "    - seed (int, optional): A seed for the random number generator to ensure reproducibility. Defaults to None.\n",
    "\n",
    "    Raises:\n",
    "    - ValueError: If `edges` is not None and `complete` is set to True, since a complete graph does not require specifying the number of edges.\n",
    "\n",
    "    Returns:\n",
    "    - Graph_Advanced: An instance of the Graph_Advanced class representing the generated graph, with vertices labeled as integers starting from 0.\n",
    "\n",
    "    Examples:\n",
    "    - Generating a complete graph with 5 nodes:\n",
    "        generate_graph(5, complete=True)\n",
    "    \n",
    "    - Generating an incomplete graph with 5 nodes and 2 edges per node:\n",
    "        generate_graph(5, edges=2)\n",
    "    \n",
    "    Note:\n",
    "    - The function assumes the existence of a Graph_Advanced class with methods for adding vertices (`add_vertex`) and edges (`add_edge`), as well as a method for getting adjacent vertices (`get_adjacent_vertices`).\n",
    "    \"\"\"\n",
    "    random.seed(seed)\n",
    "    graph = Graph_Advanced()\n",
    "    if edges is not None and complete:\n",
    "        raise ValueError(\"edges must be None if complete is set to True\")\n",
    "    \n",
    "\n",
    "    for i in range(nodes):\n",
    "        graph.add_vertex(i)\n",
    "    if complete:\n",
    "        for i in range(nodes):\n",
    "            for j in range(i+1,nodes):\n",
    "                weight = random.randint(weight_bounds[0], weight_bounds[1])\n",
    "                graph.add_edge(i,j,weight)\n",
    "    else:\n",
    "        for i in range(nodes):\n",
    "            for _ in range(edges):\n",
    "                j = random.randint(0, nodes - 1)\n",
    "                while j == i or j in graph.get_adjacent_vertices(i):  # Ensure the edge is not a loop or a duplicate\n",
    "                    j = random.randint(0, nodes - 1)\n",
    "                weight = random.randint(weight_bounds[0], weight_bounds[1])\n",
    "                graph.add_edge(i, j, weight)\n",
    "    return graph"
   ]
  },
  {
   "cell_type": "code",
   "execution_count": 7,
   "metadata": {},
   "outputs": [],
   "source": [
    "# Generate a complete graph with 5 nodes\n",
    "g_complete = generate_graph(5, complete=True)\n",
    "\n",
    "# Generate an incomplete graph with 5 nodes and 2 edges per node\n",
    "#g_incomplete = generate_graph(5, edges=2)\n",
    "\n",
    "# Generate a graph with random seed for reproducibility\n",
    "#g_seeded = generate_graph(300, complete=True, seed=42)\n"
   ]
  },
  {
   "cell_type": "code",
   "execution_count": 8,
   "metadata": {},
   "outputs": [],
   "source": [
    "# Generate a graph with random seed for reproducibility\n",
    "g_seeded = generate_graph(300, complete=True, seed=42)"
   ]
  },
  {
   "cell_type": "markdown",
   "metadata": {},
   "source": [
    "## 4 - Playground\n",
    "\n",
    "This section is your space to experiment with and test your methods. To measure the execution time of your code, you can use the `%%timeit` magic method. Remember, `%%timeit` should be placed at the **beginning** of a code block, even before any comments marked by `#`. It's important to note that this magic method doesn't save the output of the function it measures. You're encouraged to create as many new cells as needed for testing, but keep in mind that only the code within the `Graph_Advanced` class will be considered during grading. Here's an example of how to use `%%timeit` to assess the execution time of functions."
   ]
  },
  {
   "cell_type": "code",
   "execution_count": 9,
   "metadata": {
    "deletable": false
   },
   "outputs": [],
   "source": [
    "## Example function\n",
    "def foo(n):\n",
    "    i = 0\n",
    "    for i in range(10000):\n",
    "        for j in range(n):\n",
    "            i += j\n",
    "    return i"
   ]
  },
  {
   "cell_type": "code",
   "execution_count": 10,
   "metadata": {},
   "outputs": [
    {
     "name": "stdout",
     "output_type": "stream",
     "text": [
      "10044\n"
     ]
    }
   ],
   "source": [
    "print(foo(10))"
   ]
  },
  {
   "cell_type": "code",
   "execution_count": 11,
   "metadata": {},
   "outputs": [
    {
     "name": "stdout",
     "output_type": "stream",
     "text": [
      "4.64 ms ± 342 µs per loop (mean ± std. dev. of 7 runs, 100 loops each)\n"
     ]
    }
   ],
   "source": [
    "%%timeit\n",
    "foo(10)"
   ]
  },
  {
   "cell_type": "markdown",
   "metadata": {},
   "source": [
    "Feel free to add as many cells as you want! You can do so by clicking in the `+` button in the left upper corner of this notebook."
   ]
  },
  {
   "cell_type": "markdown",
   "metadata": {},
   "source": [
    "## 5 - Test Your Solutions\n",
    "\n",
    "After implementing your methods in the previous class, you can run the code blocks below to test each of your developed methods! If you see the message \"All tests passed!\" for every unittest, your assignment is likely ready for submission. If not, you'll be able to see which cases your code didn't pass and understand why. **Remember, the unittests here cover only a few example cases due to the constraints of this environment. The grading process will include more extensive testing. It's possible to pass all the tests here but still fail some during the autograding.** However, if that happens, don't worry—you will receive feedback on why you failed, which will allow you to adjust your functions and resubmit the assignment. You're welcome to submit your assignment multiple times as needed.\n",
    "\n",
    "**IMPORTANT NOTE: Please ensure you shut down any other live kernels (if you have another notebook open within this environment), as they may affect the execution time of your functions.**"
   ]
  },
  {
   "cell_type": "markdown",
   "metadata": {
    "deletable": false,
    "editable": false
   },
   "source": [
    "### 5.1 Test Exercise 1 (method Graph_Advanced.shortest_path)\n",
    "\n",
    "Run the code below to test the `shortest_path` method on sparsely connected graphs with 10,000 nodes. The requirements for passing this exercise are:\n",
    "\n",
    "- The algorithm must complete its run in under `0.5` second for each graph.\n",
    "- It must accurately find the shortest path."
   ]
  },
  {
   "cell_type": "code",
   "execution_count": 12,
   "metadata": {
    "deletable": false,
    "editable": false
   },
   "outputs": [
    {
     "name": "stdout",
     "output_type": "stream",
     "text": [
      "\u001b[92m All tests passed!\n"
     ]
    }
   ],
   "source": [
    "unittests.test_shortest_path(Graph_Advanced)"
   ]
  },
  {
   "cell_type": "markdown",
   "metadata": {
    "deletable": false,
    "editable": false
   },
   "source": [
    "### 5.2 Test Exercise 2 (method Graph_Advanced.tsp_small_graph)\n",
    "\n",
    "Run the code below to test the `tsp_small_graph` on complete (fully connected) graphs with 10 nodes. The requirements for passing this exercise are:\n",
    "\n",
    "- The algorithm must complete its run in under `1` second for each graph.\n",
    "- It must fund the optimal solution, starting at node 0."
   ]
  },
  {
   "cell_type": "code",
   "execution_count": 13,
   "metadata": {
    "deletable": false,
    "editable": false
   },
   "outputs": [
    {
     "name": "stdout",
     "output_type": "stream",
     "text": [
      "\u001b[92m All tests passed!\n"
     ]
    }
   ],
   "source": [
    "unittests.test_tsp_small_graph(Graph_Advanced)"
   ]
  },
  {
   "cell_type": "markdown",
   "metadata": {
    "deletable": false,
    "editable": false
   },
   "source": [
    "### 5.3 Test Exercise 3 (method Graph_Advanced.tsp_large_graph)\n",
    "\n",
    "Run the code below to test the `tsp_large_graph` on complete (fully connected) graphs with 1000 nodes. The requirements for passing this exercise are:\n",
    "\n",
    "- The algorithm must complete its run in under `0.5` second for each graph.\n",
    "- It must find the good solution (less than a specified value, depending on the graph). "
   ]
  },
  {
   "cell_type": "code",
   "execution_count": 14,
   "metadata": {
    "deletable": false,
    "editable": false
   },
   "outputs": [
    {
     "name": "stdout",
     "output_type": "stream",
     "text": [
      "\u001b[92m All tests passed!\n"
     ]
    }
   ],
   "source": [
    "unittests.test_tsp_large_graph(Graph_Advanced)"
   ]
  },
  {
   "cell_type": "markdown",
   "metadata": {
    "deletable": false,
    "editable": false
   },
   "source": [
    "### 5.4 Test Exercise 4 (method Graph_Advanced.tsp_medium_graph)\n",
    "\n",
    "Run the code below to test the `tsp_medium_graph` on complete (fully connected) graphs with 300 nodes. The requirements for passing this exercise are:\n",
    "\n",
    "- The algorithm must complete its run in under `1.3` seconds for each graph.\n",
    "- It must find the good solution (less than a specified value, depending on the graph). "
   ]
  },
  {
   "cell_type": "code",
   "execution_count": 20,
   "metadata": {},
   "outputs": [
    {
     "name": "stdout",
     "output_type": "stream",
     "text": [
      "TSP Medium Graph - Distance: 688 Path: [210, 13, 171, 109, 69, 31, 68, 147, 129, 151, 10, 106, 130, 17, 2, 72, 6, 61, 19, 28, 76, 167, 45, 53, 12, 240, 32, 36, 0, 181, 149, 164, 152, 66, 235, 259, 23, 239, 21, 124, 237, 38, 4, 5, 117, 11, 95, 236, 27, 79, 85, 25, 94, 150, 22, 70, 89, 116, 229, 77, 90, 184, 126, 141, 288, 41, 78, 199, 132, 221, 63, 119, 7, 156, 47, 29, 113, 110, 107, 100, 200, 206, 64, 186, 97, 99, 185, 54, 242, 176, 1, 37, 96, 154, 93, 20, 142, 160, 144, 140, 60, 217, 145, 122, 48, 16, 123, 104, 57, 34, 118, 49, 42, 51, 44, 223, 238, 74, 103, 82, 203, 280, 249, 243, 289, 15, 234, 277, 56, 226, 87, 191, 177, 224, 88, 127, 299, 50, 182, 195, 55, 232, 265, 14, 190, 270, 233, 264, 98, 143, 169, 115, 172, 133, 174, 40, 168, 114, 155, 30, 165, 153, 46, 24, 205, 62, 112, 86, 120, 166, 208, 9, 292, 131, 214, 255, 175, 196, 157, 84, 170, 222, 101, 71, 230, 252, 263, 268, 134, 58, 162, 139, 18, 138, 251, 294, 209, 276, 65, 108, 33, 80, 231, 260, 269, 67, 125, 225, 188, 179, 75, 178, 173, 271, 8, 92, 207, 135, 218, 285, 202, 161, 193, 261, 274, 52, 246, 183, 228, 136, 180, 241, 286, 187, 121, 290, 287, 262, 83, 197, 211, 219, 158, 102, 212, 281, 159, 204, 59, 81, 105, 73, 282, 201, 111, 39, 91, 275, 284, 298, 247, 273, 194, 215, 257, 244, 248, 266, 216, 250, 253, 3, 189, 293, 227, 148, 245, 220, 198, 297, 146, 291, 256, 213, 278, 137, 26, 258, 192, 279, 295, 272, 254, 35, 128, 163, 267, 296, 283, 43, 210]\n"
     ]
    }
   ],
   "source": [
    "# Assuming the Graph_Advanced class is defined and a graph has been created\n",
    "graph = Graph_Advanced()\n",
    "\n",
    "# Add vertices and edges to form a complete graph\n",
    "for i in range(300):\n",
    "    graph.add_vertex(i)\n",
    "\n",
    "# Example of adding edges with random weights for 300 nodes\n",
    "import random\n",
    "for i in range(300):\n",
    "    for j in range(i + 1, 300):\n",
    "        weight = random.randint(1, 100)\n",
    "        graph.add_edge(i, j, weight)\n",
    "\n",
    "# Run the tsp_medium_graph method\n",
    "dist, path = graph.tsp_medium_graph(0)\n",
    "print(\"TSP Medium Graph - Distance:\", dist, \"Path:\", path)"
   ]
  },
  {
   "cell_type": "code",
   "execution_count": 21,
   "metadata": {
    "deletable": false,
    "editable": false,
    "scrolled": true
   },
   "outputs": [
    {
     "name": "stdout",
     "output_type": "stream",
     "text": [
      "\u001b[91mFailed test case: Exceeded time execution limit for a tour starting in node 0. To replicate the graph, you may run generate_graph(nodes = 300, complete = True, seed = 42).\n",
      "Expected: tsp_medium_graph method must run in less than 1.3 seconds\n",
      "Got: Time execution exceeded 1.3 seconds\n",
      "\n",
      "\u001b[91mFailed test case: Exceeded time execution limit for a tour starting in node 0. To replicate the graph, you may run generate_graph(nodes = 300, complete = True, seed = 43).\n",
      "Expected: tsp_medium_graph method must run in less than 1.3 seconds\n",
      "Got: Time execution exceeded 1.3 seconds\n",
      "\n",
      "\u001b[91mFailed test case: Exceeded time execution limit for a tour starting in node 0. To replicate the graph, you may run generate_graph(nodes = 300, complete = True, seed = 44).\n",
      "Expected: tsp_medium_graph method must run in less than 1.3 seconds\n",
      "Got: Time execution exceeded 1.3 seconds\n",
      "\n",
      "\u001b[91mFailed test case: Exceeded time execution limit for a tour starting in node 0. To replicate the graph, you may run generate_graph(nodes = 300, complete = True, seed = 45).\n",
      "Expected: tsp_medium_graph method must run in less than 1.3 seconds\n",
      "Got: Time execution exceeded 1.3 seconds\n",
      "\n",
      "\u001b[91mFailed test case: Exceeded time execution limit for a tour starting in node 0. To replicate the graph, you may run generate_graph(nodes = 300, complete = True, seed = 46).\n",
      "Expected: tsp_medium_graph method must run in less than 1.3 seconds\n",
      "Got: Time execution exceeded 1.3 seconds\n",
      "\n",
      "\u001b[91mFailed test case: Exceeded time execution limit for a tour starting in node 0. To replicate the graph, you may run generate_graph(nodes = 300, complete = True, seed = 47).\n",
      "Expected: tsp_medium_graph method must run in less than 1.3 seconds\n",
      "Got: Time execution exceeded 1.3 seconds\n",
      "\n",
      "\u001b[91mFailed test case: Exceeded time execution limit for a tour starting in node 0. To replicate the graph, you may run generate_graph(nodes = 300, complete = True, seed = 48).\n",
      "Expected: tsp_medium_graph method must run in less than 1.3 seconds\n",
      "Got: Time execution exceeded 1.3 seconds\n",
      "\n",
      "\u001b[91mFailed test case: Exceeded time execution limit for a tour starting in node 0. To replicate the graph, you may run generate_graph(nodes = 300, complete = True, seed = 49).\n",
      "Expected: tsp_medium_graph method must run in less than 1.3 seconds\n",
      "Got: Time execution exceeded 1.3 seconds\n",
      "\n",
      "\u001b[91mFailed test case: Exceeded time execution limit for a tour starting in node 0. To replicate the graph, you may run generate_graph(nodes = 300, complete = True, seed = 50).\n",
      "Expected: tsp_medium_graph method must run in less than 1.3 seconds\n",
      "Got: Time execution exceeded 1.3 seconds\n",
      "\n",
      "\u001b[91mFailed test case: Exceeded time execution limit for a tour starting in node 0. To replicate the graph, you may run generate_graph(nodes = 300, complete = True, seed = 51).\n",
      "Expected: tsp_medium_graph method must run in less than 1.3 seconds\n",
      "Got: Time execution exceeded 1.3 seconds\n",
      "\n",
      "\n"
     ]
    }
   ],
   "source": [
    "unittests.test_tsp_medium_graph(Graph_Advanced)"
   ]
  },
  {
   "cell_type": "markdown",
   "metadata": {},
   "source": [
    "**Congratulations! You completed the first assignment of the Specialization!**"
   ]
  }
 ],
 "metadata": {
  "grader_version": "1",
  "kernelspec": {
   "display_name": "Python 3 (ipykernel)",
   "language": "python",
   "name": "python3"
  },
  "language_info": {
   "codemirror_mode": {
    "name": "ipython",
    "version": 3
   },
   "file_extension": ".py",
   "mimetype": "text/x-python",
   "name": "python",
   "nbconvert_exporter": "python",
   "pygments_lexer": "ipython3",
   "version": "3.11.6"
  }
 },
 "nbformat": 4,
 "nbformat_minor": 4
}
